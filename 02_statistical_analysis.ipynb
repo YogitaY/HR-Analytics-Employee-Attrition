{
 "cells": [
  {
   "cell_type": "code",
   "execution_count": 2,
   "id": "96b42dab-946d-4713-8d2f-914e8d700f75",
   "metadata": {},
   "outputs": [],
   "source": [
    "import pandas as pd\n",
    "import numpy as np\n",
    "import matplotlib.pyplot as plt\n",
    "import seaborn as sns\n",
    "\n",
    "df = pd.read_csv('employee_attrition.csv')"
   ]
  },
  {
   "cell_type": "code",
   "execution_count": 3,
   "id": "55010e8d-f704-458f-ba09-b71378618ccb",
   "metadata": {},
   "outputs": [
    {
     "name": "stdout",
     "output_type": "stream",
     "text": [
      "Chi-square: 10.79600732241067\n",
      "p-value: 0.004525606574479633\n",
      "Degrees of freedom: 2\n"
     ]
    }
   ],
   "source": [
    "# Categorical Features: Department, JobRole, Gender\n",
    "# Testing if Attrition depends on these categories using Chi-Square Test\n",
    "\n",
    "from scipy.stats import chi2_contingency\n",
    "\n",
    " # Department vs Attrition\n",
    "ct = pd.crosstab(df['Department'], df['Attrition'])\n",
    "chi2, p, dof, expected = chi2_contingency(ct)\n",
    "\n",
    "print(\"Chi-square:\", chi2)\n",
    "print(\"p-value:\", p)\n",
    "print(\"Degrees of freedom:\", dof)"
   ]
  },
  {
   "cell_type": "code",
   "execution_count": 5,
   "id": "e232c862-4caa-4856-8872-56e353beff63",
   "metadata": {},
   "outputs": [
    {
     "name": "stdout",
     "output_type": "stream",
     "text": [
      "Chi-square: 86.19025367670434\n",
      "p-value: 2.752481638050657e-15\n",
      "Degrees of freedom: 8\n"
     ]
    }
   ],
   "source": [
    "# JobRole vs Attrition\n",
    "ct = pd.crosstab(df['JobRole'], df['Attrition'])\n",
    "chi2, p, dof, expected = chi2_contingency(ct)\n",
    "\n",
    "print(\"Chi-square:\", chi2)\n",
    "print(\"p-value:\", p)\n",
    "print(\"Degrees of freedom:\", dof)"
   ]
  },
  {
   "cell_type": "code",
   "execution_count": 6,
   "id": "8ddcc8e2-f1a6-41e2-9a42-16afa748423c",
   "metadata": {},
   "outputs": [
    {
     "name": "stdout",
     "output_type": "stream",
     "text": [
      "Chi-square: 46.163676540848705\n",
      "p-value: 9.45551106034083e-11\n",
      "Degrees of freedom: 2\n"
     ]
    }
   ],
   "source": [
    "# MaritalStatus vs Attrition\n",
    "ct = pd.crosstab(df['MaritalStatus'], df['Attrition'])\n",
    "chi2, p, dof, expected = chi2_contingency(ct)\n",
    "\n",
    "print(\"Chi-square:\", chi2)\n",
    "print(\"p-value:\", p)\n",
    "print(\"Degrees of freedom:\", dof)"
   ]
  },
  {
   "cell_type": "code",
   "execution_count": 7,
   "id": "2fead53f-e437-4989-88c3-1fc8e30da77b",
   "metadata": {},
   "outputs": [
    {
     "name": "stdout",
     "output_type": "stream",
     "text": [
      "Chi-square: 16.024674119585427\n",
      "p-value: 0.006773980139025212\n",
      "Degrees of freedom: 5\n"
     ]
    }
   ],
   "source": [
    "# EducationField vs Attrition\n",
    "ct = pd.crosstab(df['EducationField'], df['Attrition'])\n",
    "chi2, p, dof, expected = chi2_contingency(ct)\n",
    "\n",
    "print(\"Chi-square:\", chi2)\n",
    "print(\"p-value:\", p)\n",
    "print(\"Degrees of freedom:\", dof)"
   ]
  },
  {
   "cell_type": "code",
   "execution_count": 8,
   "id": "940ad00b-1580-45ef-8d04-4dd2a1e6f02b",
   "metadata": {},
   "outputs": [
    {
     "name": "stdout",
     "output_type": "stream",
     "text": [
      "Chi-square: 1.1169671241970975\n",
      "p-value: 0.29057244902890855\n",
      "Degrees of freedom: 1\n"
     ]
    }
   ],
   "source": [
    "# Gender vs Attrition\n",
    "ct = pd.crosstab(df['Gender'], df['Attrition'])\n",
    "chi2, p, dof, expected = chi2_contingency(ct)\n",
    "\n",
    "print(\"Chi-square:\", chi2)\n",
    "print(\"p-value:\", p)\n",
    "print(\"Degrees of freedom:\", dof)"
   ]
  },
  {
   "cell_type": "code",
   "execution_count": 11,
   "id": "9edcb13e-cf8e-4818-aa2a-467daa1c68b7",
   "metadata": {},
   "outputs": [
    {
     "name": "stdout",
     "output_type": "stream",
     "text": [
      "Age T-test p-value: 8.356308021103587e-10\n",
      "Age Mann-Whitney p-value: 5.304342075341702e-11\n"
     ]
    }
   ],
   "source": [
    "# Numerical Features: Age, MonthlyIncome, YearsAtCompany\n",
    "\n",
    "# test if differences between “left” vs “stayed” employees are significant.\n",
    "from scipy.stats import ttest_ind, mannwhitneyu\n",
    "\n",
    "# Separate numeric data by Attrition\n",
    "age_yes = df.loc[df['Attrition']=='Yes', 'Age']\n",
    "age_no  = df.loc[df['Attrition']=='No', 'Age']\n",
    "\n",
    "# T-test (parametric)\n",
    "t_stat, p_val = ttest_ind(age_yes, age_no)\n",
    "print(\"Age T-test p-value:\", p_val)\n",
    "\n",
    "# Mann-Whitney (non-parametric, safe if data not normal)\n",
    "u_stat, p_val_mw = mannwhitneyu(age_yes, age_no)\n",
    "print(\"Age Mann-Whitney p-value:\", p_val_mw)\n"
   ]
  },
  {
   "cell_type": "code",
   "execution_count": 13,
   "id": "2888e1c8-c8e1-4932-929b-383253a69f84",
   "metadata": {},
   "outputs": [
    {
     "name": "stdout",
     "output_type": "stream",
     "text": [
      "MonthlyIncome T-test p-value: 7.147363985353811e-10\n",
      "MonthlyIncome Mann-Whitney p-value: 2.950830917288873e-14\n"
     ]
    }
   ],
   "source": [
    "# MonthlyIncome (Salary)\n",
    "# Separate numeric data by Attrition\n",
    "MonthlyIncome_yes = df.loc[df['Attrition']=='Yes', 'MonthlyIncome']\n",
    "MonthlyIncome_no  = df.loc[df['Attrition']=='No', 'MonthlyIncome']\n",
    "\n",
    "# T-test (parametric)\n",
    "t_stat, p_val = ttest_ind(MonthlyIncome_yes, MonthlyIncome_no)\n",
    "print(\"MonthlyIncome T-test p-value:\", p_val)\n",
    "\n",
    "# Mann-Whitney (non-parametric, safe if data not normal)\n",
    "u_stat, p_val_mw = mannwhitneyu(MonthlyIncome_yes, MonthlyIncome_no)\n",
    "print(\"MonthlyIncome Mann-Whitney p-value:\", p_val_mw)\n"
   ]
  },
  {
   "cell_type": "code",
   "execution_count": 14,
   "id": "bd4b3c01-dd5b-4332-9666-44d2ce07d101",
   "metadata": {},
   "outputs": [
    {
     "name": "stdout",
     "output_type": "stream",
     "text": [
      "YearsAtCompany T-test p-value: 2.3188716103863036e-07\n",
      "YearsAtCompany Mann-Whitney p-value: 2.916191369956416e-13\n"
     ]
    }
   ],
   "source": [
    "# YearsAtCompany (Tenure)\n",
    "# Separate numeric data by Attrition\n",
    "YearsAtCompany_yes = df.loc[df['Attrition']=='Yes', 'YearsAtCompany']\n",
    "YearsAtCompany_no  = df.loc[df['Attrition']=='No', 'YearsAtCompany']\n",
    "\n",
    "# T-test (parametric)\n",
    "t_stat, p_val = ttest_ind(YearsAtCompany_yes, YearsAtCompany_no)\n",
    "print(\"YearsAtCompany T-test p-value:\", p_val)\n",
    "\n",
    "# Mann-Whitney (non-parametric, safe if data not normal)\n",
    "u_stat, p_val_mw = mannwhitneyu(YearsAtCompany_yes, YearsAtCompany_no)\n",
    "print(\"YearsAtCompany Mann-Whitney p-value:\", p_val_mw)"
   ]
  },
  {
   "cell_type": "code",
   "execution_count": null,
   "id": "f3708af2-a21f-4d63-a436-fc24947966eb",
   "metadata": {},
   "outputs": [],
   "source": []
  }
 ],
 "metadata": {
  "kernelspec": {
   "display_name": "Python 3 (ipykernel)",
   "language": "python",
   "name": "python3"
  },
  "language_info": {
   "codemirror_mode": {
    "name": "ipython",
    "version": 3
   },
   "file_extension": ".py",
   "mimetype": "text/x-python",
   "name": "python",
   "nbconvert_exporter": "python",
   "pygments_lexer": "ipython3",
   "version": "3.13.5"
  }
 },
 "nbformat": 4,
 "nbformat_minor": 5
}
